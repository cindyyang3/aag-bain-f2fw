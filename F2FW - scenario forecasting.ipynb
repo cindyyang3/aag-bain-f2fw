{
 "cells": [
  {
   "cell_type": "code",
   "execution_count": null,
   "metadata": {},
   "outputs": [],
   "source": [
    "import jupyter_black\n",
    "\n",
    "jupyter_black.load()\n",
    "\n",
    "import pandas as pd\n",
    "import numpy as np\n",
    "from statsmodels.tsa.arima.model import ARIMA\n",
    "from statsmodels.graphics.tsaplots import plot_predict\n",
    "import matplotlib.pyplot as plt\n",
    "from pmdarima import auto_arima\n",
    "import os"
   ]
  },
  {
   "attachments": {},
   "cell_type": "markdown",
   "metadata": {},
   "source": [
    "## Setting up the file path and forecast time horizon"
   ]
  },
  {
   "cell_type": "code",
   "execution_count": null,
   "metadata": {},
   "outputs": [],
   "source": [
    "file_path = \"/Users/66789/Documents/GitHub/aag-bain-f2fw/\"\n",
    "os.chdir(file_path)\n",
    "datafile = \"data/230428 trucking2303_shared with AAG_mod.xlsx\"\n",
    "\n",
    "forecast_start = pd.datetime(2023, 3, 1)\n",
    "forecast_end = pd.datetime(2025, 12, 1)"
   ]
  },
  {
   "attachments": {},
   "cell_type": "markdown",
   "metadata": {},
   "source": [
    "### Reading the data to train the model\n",
    "* Considers both monthly and quarterly data"
   ]
  },
  {
   "cell_type": "code",
   "execution_count": null,
   "metadata": {},
   "outputs": [],
   "source": [
    "def read_data(freq: str):\n",
    "    df = pd.read_excel(datafile, sheet_name=freq).T.reset_index(drop=True)\n",
    "    new_header = df.iloc[1]  # grab the first row for the header\n",
    "    df = df[3:]  # take the data less the header row\n",
    "    df.columns = new_header  # set the header row as the df header\n",
    "    df.drop([\"Label: (SA = seasonally adjusted)\"], axis=1, inplace=True)\n",
    "    df = df.loc[:, df.columns.notna()]\n",
    "    df = df.loc[:, ~df.columns.str.startswith(\"TCI Component\")]\n",
    "    df = df.loc[:, ~df.columns.str.startswith(\"Unnamed\")]\n",
    "\n",
    "    df.dropna(axis=0, how=\"all\", inplace=True)\n",
    "    df = df.apply(pd.to_numeric, downcast=\"float\", errors=\"coerce\")\n",
    "\n",
    "    if freq == \"QUARTERLY\":\n",
    "        df[\"Date\"] = pd.date_range(\"2000-01-01\", \"2025-12-01\", freq=\"QS\")\n",
    "        # df[\"Year\"] = df[\"Date\"].dt.year\n",
    "        # df[\"Quarter\"] = df[\"Date\"].dt.quarter\n",
    "    if freq == \"MONTHLY\":\n",
    "        df[\"Date\"] = pd.date_range(\"2000-01-01\", \"2025-01-01\", freq=\"MS\")\n",
    "        # df[\"Year\"] = df[\"Date\"].dt.year\n",
    "        # df[\"Month\"] = df[\"Date\"].dt.month\n",
    "\n",
    "    # df.dropna(inplace=True)\n",
    "    df.set_index(\"Date\", inplace=True)\n",
    "    return df"
   ]
  },
  {
   "cell_type": "code",
   "execution_count": null,
   "metadata": {},
   "outputs": [],
   "source": [
    "df_quarterly = read_data(\"QUARTERLY\")\n",
    "df_monthly = read_data(\"MONTHLY\")\n",
    "\n",
    "spot_col = \"Total TL: Spot Rate (exc. FSC, SA)\"\n",
    "contract_col = \"Total TL: Contract Rate (exc. FSC, SA)\""
   ]
  },
  {
   "attachments": {},
   "cell_type": "markdown",
   "metadata": {},
   "source": [
    "### Reads the driver values for the forecast scenario"
   ]
  },
  {
   "cell_type": "code",
   "execution_count": null,
   "metadata": {},
   "outputs": [],
   "source": [
    "## Reading the file with scenario driver values\n",
    "df_scenario = pd.read_excel(datafile, sheet_name=\"QUARTERLY (Scenario1)\").T.reset_index(\n",
    "    drop=True\n",
    ")\n",
    "\n",
    "## Cleaning the file\n",
    "new_header = df_scenario.iloc[1]  # grab the first row for the header\n",
    "df_scenario = df_scenario[3:]  # take the data less the header row\n",
    "df_scenario.columns = new_header  # set the header row as the df header\n",
    "# Removing unused columns\n",
    "df_scenario.drop([\"Label: (SA = seasonally adjusted)\"], axis=1, inplace=True)\n",
    "df_scenario = df_scenario.loc[:, df_scenario.columns.notna()]\n",
    "df_scenario = df_scenario.loc[:, ~df_scenario.columns.str.startswith(\"TCI Component\")]\n",
    "df_scenario = df_scenario.loc[:, ~df_scenario.columns.str.startswith(\"Unnamed\")]\n",
    "df_scenario.dropna(axis=0, how=\"all\", inplace=True)  # Removing empty rows\n",
    "# Setting all values to numbers\n",
    "df_scenario = df_scenario.apply(pd.to_numeric, downcast=\"float\", errors=\"coerce\")\n",
    "# Index rows by dates\n",
    "df_scenario[\"Date\"] = pd.date_range(forecast_start, forecast_end, freq=\"QS\")\n",
    "df_scenario.set_index(\"Date\", inplace=True)\n",
    "\n",
    "df_scenario.head()"
   ]
  },
  {
   "attachments": {},
   "cell_type": "markdown",
   "metadata": {},
   "source": [
    "## Training the model and scenario analysis\n",
    "* The forecasted values (and their 95% confidence intervals) will be outputted in CSV files in the file path"
   ]
  },
  {
   "cell_type": "code",
   "execution_count": null,
   "metadata": {},
   "outputs": [],
   "source": [
    "train_start = pd.datetime(2008, 1, 1)\n",
    "train_end = pd.datetime(2025, 12, 30)\n",
    "\n",
    "\n",
    "df = df_quarterly.copy()\n",
    "test_end = pd.datetime(2025, 12, 30)\n",
    "\n",
    "for target_col in [contract_col, spot_col]:\n",
    "    if target_col == spot_col:\n",
    "        exog = [\n",
    "            \"Active Truck Utilization (SA)\",\n",
    "            \"Total Truck Loadings (SA)\",\n",
    "            \"National Avg. Diesel Fuel Price ($/Gal.)\",\n",
    "            \"Driver Labor Index (1992=100, SA)\",\n",
    "            \"3 Month T-Bill Rate, %\",\n",
    "        ]\n",
    "    elif target_col == contract_col:\n",
    "        exog = [\n",
    "            \"Active Truck Utilization (SA)\",\n",
    "            \"Total Truck Loadings (SA)\",\n",
    "            \"National Avg. Diesel Fuel Price ($/Gal.)\",\n",
    "            # \"Driver Labor Index (1992=100, SA)\",\n",
    "            # \"3 Month T-Bill Rate, %\",\n",
    "        ]\n",
    "\n",
    "    train_df = df[(df.index >= train_start) & (df.index <= train_end)]\n",
    "    forecast_df = df_scenario[\n",
    "        (df_scenario.index >= train_start) & (df_scenario.index <= forecast_end)\n",
    "    ]\n",
    "\n",
    "    best_model = auto_arima(\n",
    "        train_df[target_col],\n",
    "        start_p=0,\n",
    "        start_q=0,\n",
    "        X=train_df[exog],\n",
    "        test=\"adf\",  # use adftest to find optimal 'd'\n",
    "        max_p=3,\n",
    "        max_q=3,  # maximum p and q\n",
    "        m=1,  # frequency of series\n",
    "        d=None,  # let model determine 'd'\n",
    "        seasonal=True,\n",
    "        start_P=0,\n",
    "        D=0,\n",
    "        trace=True,\n",
    "        error_action=\"ignore\",\n",
    "        suppress_warnings=True,\n",
    "        stepwise=True,\n",
    "    )\n",
    "\n",
    "    # Build Model\n",
    "    model = ARIMA(\n",
    "        train_df[target_col],\n",
    "        exog=train_df[exog],\n",
    "        order=best_model.order,\n",
    "    )\n",
    "    fitted = model.fit()\n",
    "    print(fitted.summary())\n",
    "\n",
    "    # Plot diagnostics\n",
    "    fitted.plot_diagnostics(figsize=(16, 9))\n",
    "    plt.show()\n",
    "\n",
    "    # Forecast\n",
    "    pred = fitted.get_prediction(\n",
    "        start=forecast_df.index[0],\n",
    "        end=forecast_df.index[-1],\n",
    "        exog=forecast_df[exog],\n",
    "        dynamic=False,\n",
    "    )\n",
    "\n",
    "    print(model.order)\n",
    "    print(train_df[exog].dropna(axis=1).columns)\n",
    "    pd.concat([pred.predicted_mean, pred.conf_int(alpha=0.05)], axis=1).to_csv(\n",
    "        \"Scenario_Forecast_\" + target_col + \".csv\", index=False\n",
    "    )\n",
    "\n",
    "    # Plot\n",
    "    fig, ax = plt.subplots()\n",
    "    ax = df[target_col].dropna().plot(ax=ax)\n",
    "\n",
    "    plot_predict(\n",
    "        fitted,\n",
    "        forecast_df.index[1],\n",
    "        forecast_df.index[-1],\n",
    "        ax=ax,\n",
    "        exog=forecast_df[exog].dropna(axis=1),\n",
    "    )\n",
    "\n",
    "    plt.xlim([train_start, forecast_end])\n",
    "\n",
    "    plt.show()"
   ]
  }
 ],
 "metadata": {
  "kernelspec": {
   "display_name": "base",
   "language": "python",
   "name": "python3"
  },
  "language_info": {
   "codemirror_mode": {
    "name": "ipython",
    "version": 3
   },
   "file_extension": ".py",
   "mimetype": "text/x-python",
   "name": "python",
   "nbconvert_exporter": "python",
   "pygments_lexer": "ipython3",
   "version": "3.10.9"
  },
  "orig_nbformat": 4,
  "vscode": {
   "interpreter": {
    "hash": "942943fac2a66c60114911a9e5ac8c8224cb550a25eda1ee53472d996fe234a0"
   }
  }
 },
 "nbformat": 4,
 "nbformat_minor": 2
}
