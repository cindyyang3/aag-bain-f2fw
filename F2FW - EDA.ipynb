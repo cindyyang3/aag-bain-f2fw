{
 "cells": [
  {
   "cell_type": "code",
   "execution_count": 11,
   "metadata": {},
   "outputs": [
    {
     "name": "stdout",
     "output_type": "stream",
     "text": [
      "The nb_black extension is already loaded. To reload it, use:\n",
      "  %reload_ext nb_black\n"
     ]
    },
    {
     "data": {
      "application/javascript": "\n            setTimeout(function() {\n                var nbb_cell_id = 11;\n                var nbb_unformatted_code = \"%load_ext nb_black\\n\\nimport pandas as pd\\nimport numpy as np\\n%matplotlib inline\\nimport matplotlib.pyplot as plt\\n\\nfrom pandas_profiling import ProfileReport\\n\\nimport altair as alt\\n\\nfrom scipy import stats\\nfrom scipy.stats import norm, skew\\nimport seaborn as sns\\ncolor = sns.color_palette()\\nsns.set_style('darkgrid')\\n\\nimport warnings\\ndef ignore_warn(*args, **kwargs):\\n    pass\\nwarnings.warn = ignore_warn\\n\\n\\nimport os\\n\\nos.chdir('/Users/66789/Documents/GitHub/aag-bain-f2fw/')\\ndatafile = 'data/230428 trucking2303_shared with AAG.xlsx'\";\n                var nbb_formatted_code = \"%load_ext nb_black\\n\\nimport pandas as pd\\nimport numpy as np\\n\\n%matplotlib inline\\nimport matplotlib.pyplot as plt\\n\\nfrom pandas_profiling import ProfileReport\\n\\nimport altair as alt\\n\\nfrom scipy import stats\\nfrom scipy.stats import norm, skew\\nimport seaborn as sns\\n\\ncolor = sns.color_palette()\\nsns.set_style(\\\"darkgrid\\\")\\n\\nimport warnings\\n\\n\\ndef ignore_warn(*args, **kwargs):\\n    pass\\n\\n\\nwarnings.warn = ignore_warn\\n\\n\\nimport os\\n\\nos.chdir(\\\"/Users/66789/Documents/GitHub/aag-bain-f2fw/\\\")\\ndatafile = \\\"data/230428 trucking2303_shared with AAG.xlsx\\\"\";\n                var nbb_cells = Jupyter.notebook.get_cells();\n                for (var i = 0; i < nbb_cells.length; ++i) {\n                    if (nbb_cells[i].input_prompt_number == nbb_cell_id) {\n                        if (nbb_cells[i].get_text() == nbb_unformatted_code) {\n                             nbb_cells[i].set_text(nbb_formatted_code);\n                        }\n                        break;\n                    }\n                }\n            }, 500);\n            ",
      "text/plain": [
       "<IPython.core.display.Javascript object>"
      ]
     },
     "metadata": {},
     "output_type": "display_data"
    }
   ],
   "source": [
    "%load_ext nb_black\n",
    "\n",
    "import pandas as pd\n",
    "import numpy as np\n",
    "%matplotlib inline\n",
    "import matplotlib.pyplot as plt\n",
    "\n",
    "from pandas_profiling import ProfileReport\n",
    "\n",
    "import altair as alt\n",
    "\n",
    "from scipy import stats\n",
    "from scipy.stats import norm, skew\n",
    "import seaborn as sns\n",
    "color = sns.color_palette()\n",
    "sns.set_style('darkgrid')\n",
    "\n",
    "import warnings\n",
    "def ignore_warn(*args, **kwargs):\n",
    "    pass\n",
    "warnings.warn = ignore_warn\n",
    "\n",
    "\n",
    "import os\n",
    "\n",
    "os.chdir('/Users/66789/Documents/GitHub/aag-bain-f2fw/')\n",
    "datafile = 'data/230428 trucking2303_shared with AAG.xlsx'"
   ]
  },
  {
   "cell_type": "code",
   "execution_count": 12,
   "metadata": {},
   "outputs": [],
   "source": [
    "freq = \"QUARTERLY\"\n",
    "df = pd.read_excel(datafile, sheet_name=freq).T\n",
    "new_header = df.iloc[1] #grab the first row for the header\n",
    "df = df[3:] #take the data less the header row\n",
    "df.columns = new_header #set the header row as the df header\n",
    "df.drop(['Label: (SA = seasonally adjusted)'], axis=1, inplace=True)\n",
    "df = df.loc[:, df.columns.notna()]\n",
    "df.dropna(axis = 0, how = 'all', inplace = True)\n",
    "\n",
    "cols = df.select_dtypes(exclude=['float']).columns\n",
    "df[cols] = df[cols].apply(pd.to_numeric, downcast='float', errors='coerce')\n",
    "\n",
    "if freq == \"QUARTERLY\":\n",
    "    df['Date'] = pd.date_range('2000-01-01', '2025-12-01', freq='QS')\n",
    "    df['Year'] = df['Date'].dt.year\n",
    "    df['Quarter'] = df['Date'].dt.quarter\n",
    "    df = df[ ['Date'] + ['Year'] + ['Quarter'] + [ col for col in df.columns if col != 'Date'] ]\n",
    "else:\n",
    "    df['Date'] = pd.date_range('2000-01-01', '2025-01-01', freq='MS')\n",
    "    df['Year'] = df['Date'].dt.year\n",
    "    df['Month'] = df['Date'].dt.month\n",
    "    df = df[ ['Date'] + ['Year'] + ['Month'] + [ col for col in df.columns if col != 'Date'] ]\n",
    "\n",
    "\n",
    "display(df.describe())\n",
    "\n"
   ]
  },
  {
   "cell_type": "code",
   "execution_count": null,
   "metadata": {},
   "outputs": [],
   "source": [
    "train_missing = (df.isnull().sum()/len(df)) *100\n",
    "train_missing = train_missing.drop(train_missing[train_missing ==0].index).sort_values(ascending=False)\n",
    "missing_data = pd.DataFrame({'Missing Percentage': train_missing})\n",
    "missing_data"
   ]
  },
  {
   "cell_type": "code",
   "execution_count": null,
   "metadata": {},
   "outputs": [],
   "source": [
    "# timeseries_heatmap(dataframe=df, entity_column='Site Num', sortby='Date')\n",
    "\n",
    "profile = ProfileReport(df, tsmode=True, sortby=\"Date\")\n",
    "profile.to_file(freq+'_profile_report.html')"
   ]
  },
  {
   "cell_type": "code",
   "execution_count": null,
   "metadata": {},
   "outputs": [],
   "source": [
    "train_spot = df[['Date', 'Total TL: Spot Rate (exc. FSC, SA)']].dropna()\n",
    "train_spot.set_index('Date', inplace=True)\n",
    "train_spot.index.freq='QS'\n",
    "train_spot.index\n",
    "\n",
    "train_contract = df[['Date', 'Total TL: Contract Rate (exc. FSC, SA)']].dropna()\n",
    "train_contract.set_index('Date', inplace=True)\n",
    "train_contract.index.freq='QS'\n",
    "train_contract.index\n"
   ]
  },
  {
   "cell_type": "code",
   "execution_count": null,
   "metadata": {},
   "outputs": [],
   "source": [
    "print('Contract rate')\n",
    "sns.heatmap(pd.pivot_table(data=train_contract, index=train_contract.index.year, columns=train_contract.index.quarter),\n",
    "           square=True,\n",
    "           cmap='Blues',\n",
    "           xticklabels=[\"Q1\", \"Q2\", \"Q3\", \"Q4\"])\n",
    "\n"
   ]
  },
  {
   "cell_type": "code",
   "execution_count": null,
   "metadata": {},
   "outputs": [],
   "source": [
    "print('Spot rate')\n",
    "sns.heatmap(pd.pivot_table(data=train_spot, index=train_spot.index.year, columns=train_spot.index.quarter),\n",
    "           square=True,\n",
    "           cmap='Blues',\n",
    "           xticklabels=[\"Q1\", \"Q2\", \"Q3\", \"Q4\"])"
   ]
  },
  {
   "cell_type": "code",
   "execution_count": null,
   "metadata": {},
   "outputs": [],
   "source": [
    "sns.pairplot(df)"
   ]
  },
  {
   "cell_type": "code",
   "execution_count": null,
   "metadata": {},
   "outputs": [],
   "source": [
    "pd.plotting.lag_plot(train_spot[\"Total TL: Spot Rate (exc. FSC, SA)\"],1)"
   ]
  },
  {
   "cell_type": "code",
   "execution_count": null,
   "metadata": {},
   "outputs": [],
   "source": [
    "pd.plotting.lag_plot(train_spot[\"Total TL: Spot Rate (exc. FSC, SA)\"],4)"
   ]
  },
  {
   "cell_type": "code",
   "execution_count": null,
   "metadata": {},
   "outputs": [],
   "source": []
  }
 ],
 "metadata": {
  "kernelspec": {
   "display_name": "base",
   "language": "python",
   "name": "python3"
  },
  "language_info": {
   "codemirror_mode": {
    "name": "ipython",
    "version": 3
   },
   "file_extension": ".py",
   "mimetype": "text/x-python",
   "name": "python",
   "nbconvert_exporter": "python",
   "pygments_lexer": "ipython3",
   "version": "3.10.9"
  },
  "orig_nbformat": 4,
  "vscode": {
   "interpreter": {
    "hash": "942943fac2a66c60114911a9e5ac8c8224cb550a25eda1ee53472d996fe234a0"
   }
  }
 },
 "nbformat": 4,
 "nbformat_minor": 2
}
