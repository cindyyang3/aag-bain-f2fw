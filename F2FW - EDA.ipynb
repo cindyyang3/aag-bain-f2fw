{
 "cells": [
  {
   "cell_type": "code",
   "execution_count": 1,
   "metadata": {},
   "outputs": [
    {
     "name": "stderr",
     "output_type": "stream",
     "text": [
      "/Users/66789/miniconda3/lib/python3.10/site-packages/tqdm/auto.py:22: TqdmWarning: IProgress not found. Please update jupyter and ipywidgets. See https://ipywidgets.readthedocs.io/en/stable/user_install.html\n",
      "  from .autonotebook import tqdm as notebook_tqdm\n",
      "/var/folders/ws/cvz3xx855x15f0h5pm3y1xhjl5lgwg/T/ipykernel_13164/1360059519.py:8: DeprecationWarning: `import pandas_profiling` is going to be deprecated by April 1st. Please use `import ydata_profiling` instead.\n",
      "  from pandas_profiling import ProfileReport\n"
     ]
    },
    {
     "data": {
      "application/javascript": "\n            setTimeout(function() {\n                var nbb_cell_id = 1;\n                var nbb_unformatted_code = \"%load_ext nb_black\\n\\nimport pandas as pd\\nimport numpy as np\\n%matplotlib inline\\nimport matplotlib.pyplot as plt\\n\\nfrom pandas_profiling import ProfileReport\\n\\nimport altair as alt\\n\\nfrom scipy import stats\\nfrom scipy.stats import norm, skew\\nimport seaborn as sns\\ncolor = sns.color_palette()\\nsns.set_style('darkgrid')\\n\\nimport warnings\\ndef ignore_warn(*args, **kwargs):\\n    pass\\nwarnings.warn = ignore_warn\\n\\n\\nimport os\\n\\nos.chdir('/Users/66789/Documents/GitHub/aag-bain-f2fw/')\\ndatafile = 'data/230428 trucking2303_shared with AAG_color.xlsx230428 trucking2303_shared with AAG_color.xlsx'\";\n                var nbb_formatted_code = \"%load_ext nb_black\\n\\nimport pandas as pd\\nimport numpy as np\\n\\n%matplotlib inline\\nimport matplotlib.pyplot as plt\\n\\nfrom pandas_profiling import ProfileReport\\n\\nimport altair as alt\\n\\nfrom scipy import stats\\nfrom scipy.stats import norm, skew\\nimport seaborn as sns\\n\\ncolor = sns.color_palette()\\nsns.set_style(\\\"darkgrid\\\")\\n\\nimport warnings\\n\\n\\ndef ignore_warn(*args, **kwargs):\\n    pass\\n\\n\\nwarnings.warn = ignore_warn\\n\\n\\nimport os\\n\\nos.chdir(\\\"/Users/66789/Documents/GitHub/aag-bain-f2fw/\\\")\\ndatafile = \\\"data/230428 trucking2303_shared with AAG_color.xlsx230428 trucking2303_shared with AAG_color.xlsx\\\"\";\n                var nbb_cells = Jupyter.notebook.get_cells();\n                for (var i = 0; i < nbb_cells.length; ++i) {\n                    if (nbb_cells[i].input_prompt_number == nbb_cell_id) {\n                        if (nbb_cells[i].get_text() == nbb_unformatted_code) {\n                             nbb_cells[i].set_text(nbb_formatted_code);\n                        }\n                        break;\n                    }\n                }\n            }, 500);\n            ",
      "text/plain": [
       "<IPython.core.display.Javascript object>"
      ]
     },
     "metadata": {},
     "output_type": "display_data"
    }
   ],
   "source": [
    "%load_ext nb_black\n",
    "\n",
    "import pandas as pd\n",
    "import numpy as np\n",
    "%matplotlib inline\n",
    "import matplotlib.pyplot as plt\n",
    "\n",
    "from pandas_profiling import ProfileReport\n",
    "\n",
    "import altair as alt\n",
    "\n",
    "from scipy import stats\n",
    "from scipy.stats import norm, skew\n",
    "import seaborn as sns\n",
    "color = sns.color_palette()\n",
    "sns.set_style('darkgrid')\n",
    "\n",
    "import warnings\n",
    "def ignore_warn(*args, **kwargs):\n",
    "    pass\n",
    "warnings.warn = ignore_warn\n",
    "\n",
    "\n",
    "import os\n",
    "\n",
    "os.chdir('/Users/66789/Documents/GitHub/aag-bain-f2fw/')\n",
    "datafile = 'data/230428 trucking2303_shared with AAG_color.xlsx230428 trucking2303_shared with AAG_color.xlsx'"
   ]
  },
  {
   "cell_type": "code",
   "execution_count": 2,
   "metadata": {},
   "outputs": [
    {
     "ename": "FileNotFoundError",
     "evalue": "[Errno 2] No such file or directory: 'data/230428 trucking2303_shared with AAG_color.xlsx230428 trucking2303_shared with AAG_color.xlsx'",
     "output_type": "error",
     "traceback": [
      "\u001b[0;31m---------------------------------------------------------------------------\u001b[0m",
      "\u001b[0;31mFileNotFoundError\u001b[0m                         Traceback (most recent call last)",
      "Cell \u001b[0;32mIn[2], line 2\u001b[0m\n\u001b[1;32m      1\u001b[0m freq \u001b[39m=\u001b[39m \u001b[39m\"\u001b[39m\u001b[39mQUARTERLY\u001b[39m\u001b[39m\"\u001b[39m\n\u001b[0;32m----> 2\u001b[0m df \u001b[39m=\u001b[39m pd\u001b[39m.\u001b[39;49mread_excel(datafile, sheet_name\u001b[39m=\u001b[39;49mfreq)\u001b[39m.\u001b[39mT\n\u001b[1;32m      3\u001b[0m new_header \u001b[39m=\u001b[39m df\u001b[39m.\u001b[39miloc[\u001b[39m1\u001b[39m] \u001b[39m#grab the first row for the header\u001b[39;00m\n\u001b[1;32m      4\u001b[0m df \u001b[39m=\u001b[39m df[\u001b[39m3\u001b[39m:] \u001b[39m#take the data less the header row\u001b[39;00m\n",
      "File \u001b[0;32m~/miniconda3/lib/python3.10/site-packages/pandas/util/_decorators.py:211\u001b[0m, in \u001b[0;36mdeprecate_kwarg.<locals>._deprecate_kwarg.<locals>.wrapper\u001b[0;34m(*args, **kwargs)\u001b[0m\n\u001b[1;32m    209\u001b[0m     \u001b[39melse\u001b[39;00m:\n\u001b[1;32m    210\u001b[0m         kwargs[new_arg_name] \u001b[39m=\u001b[39m new_arg_value\n\u001b[0;32m--> 211\u001b[0m \u001b[39mreturn\u001b[39;00m func(\u001b[39m*\u001b[39;49margs, \u001b[39m*\u001b[39;49m\u001b[39m*\u001b[39;49mkwargs)\n",
      "File \u001b[0;32m~/miniconda3/lib/python3.10/site-packages/pandas/util/_decorators.py:331\u001b[0m, in \u001b[0;36mdeprecate_nonkeyword_arguments.<locals>.decorate.<locals>.wrapper\u001b[0;34m(*args, **kwargs)\u001b[0m\n\u001b[1;32m    325\u001b[0m \u001b[39mif\u001b[39;00m \u001b[39mlen\u001b[39m(args) \u001b[39m>\u001b[39m num_allow_args:\n\u001b[1;32m    326\u001b[0m     warnings\u001b[39m.\u001b[39mwarn(\n\u001b[1;32m    327\u001b[0m         msg\u001b[39m.\u001b[39mformat(arguments\u001b[39m=\u001b[39m_format_argument_list(allow_args)),\n\u001b[1;32m    328\u001b[0m         \u001b[39mFutureWarning\u001b[39;00m,\n\u001b[1;32m    329\u001b[0m         stacklevel\u001b[39m=\u001b[39mfind_stack_level(),\n\u001b[1;32m    330\u001b[0m     )\n\u001b[0;32m--> 331\u001b[0m \u001b[39mreturn\u001b[39;00m func(\u001b[39m*\u001b[39;49margs, \u001b[39m*\u001b[39;49m\u001b[39m*\u001b[39;49mkwargs)\n",
      "File \u001b[0;32m~/miniconda3/lib/python3.10/site-packages/pandas/io/excel/_base.py:482\u001b[0m, in \u001b[0;36mread_excel\u001b[0;34m(io, sheet_name, header, names, index_col, usecols, squeeze, dtype, engine, converters, true_values, false_values, skiprows, nrows, na_values, keep_default_na, na_filter, verbose, parse_dates, date_parser, thousands, decimal, comment, skipfooter, convert_float, mangle_dupe_cols, storage_options)\u001b[0m\n\u001b[1;32m    480\u001b[0m \u001b[39mif\u001b[39;00m \u001b[39mnot\u001b[39;00m \u001b[39misinstance\u001b[39m(io, ExcelFile):\n\u001b[1;32m    481\u001b[0m     should_close \u001b[39m=\u001b[39m \u001b[39mTrue\u001b[39;00m\n\u001b[0;32m--> 482\u001b[0m     io \u001b[39m=\u001b[39m ExcelFile(io, storage_options\u001b[39m=\u001b[39;49mstorage_options, engine\u001b[39m=\u001b[39;49mengine)\n\u001b[1;32m    483\u001b[0m \u001b[39melif\u001b[39;00m engine \u001b[39mand\u001b[39;00m engine \u001b[39m!=\u001b[39m io\u001b[39m.\u001b[39mengine:\n\u001b[1;32m    484\u001b[0m     \u001b[39mraise\u001b[39;00m \u001b[39mValueError\u001b[39;00m(\n\u001b[1;32m    485\u001b[0m         \u001b[39m\"\u001b[39m\u001b[39mEngine should not be specified when passing \u001b[39m\u001b[39m\"\u001b[39m\n\u001b[1;32m    486\u001b[0m         \u001b[39m\"\u001b[39m\u001b[39man ExcelFile - ExcelFile already has the engine set\u001b[39m\u001b[39m\"\u001b[39m\n\u001b[1;32m    487\u001b[0m     )\n",
      "File \u001b[0;32m~/miniconda3/lib/python3.10/site-packages/pandas/io/excel/_base.py:1652\u001b[0m, in \u001b[0;36mExcelFile.__init__\u001b[0;34m(self, path_or_buffer, engine, storage_options)\u001b[0m\n\u001b[1;32m   1650\u001b[0m     ext \u001b[39m=\u001b[39m \u001b[39m\"\u001b[39m\u001b[39mxls\u001b[39m\u001b[39m\"\u001b[39m\n\u001b[1;32m   1651\u001b[0m \u001b[39melse\u001b[39;00m:\n\u001b[0;32m-> 1652\u001b[0m     ext \u001b[39m=\u001b[39m inspect_excel_format(\n\u001b[1;32m   1653\u001b[0m         content_or_path\u001b[39m=\u001b[39;49mpath_or_buffer, storage_options\u001b[39m=\u001b[39;49mstorage_options\n\u001b[1;32m   1654\u001b[0m     )\n\u001b[1;32m   1655\u001b[0m     \u001b[39mif\u001b[39;00m ext \u001b[39mis\u001b[39;00m \u001b[39mNone\u001b[39;00m:\n\u001b[1;32m   1656\u001b[0m         \u001b[39mraise\u001b[39;00m \u001b[39mValueError\u001b[39;00m(\n\u001b[1;32m   1657\u001b[0m             \u001b[39m\"\u001b[39m\u001b[39mExcel file format cannot be determined, you must specify \u001b[39m\u001b[39m\"\u001b[39m\n\u001b[1;32m   1658\u001b[0m             \u001b[39m\"\u001b[39m\u001b[39man engine manually.\u001b[39m\u001b[39m\"\u001b[39m\n\u001b[1;32m   1659\u001b[0m         )\n",
      "File \u001b[0;32m~/miniconda3/lib/python3.10/site-packages/pandas/io/excel/_base.py:1525\u001b[0m, in \u001b[0;36minspect_excel_format\u001b[0;34m(content_or_path, storage_options)\u001b[0m\n\u001b[1;32m   1522\u001b[0m \u001b[39mif\u001b[39;00m \u001b[39misinstance\u001b[39m(content_or_path, \u001b[39mbytes\u001b[39m):\n\u001b[1;32m   1523\u001b[0m     content_or_path \u001b[39m=\u001b[39m BytesIO(content_or_path)\n\u001b[0;32m-> 1525\u001b[0m \u001b[39mwith\u001b[39;00m get_handle(\n\u001b[1;32m   1526\u001b[0m     content_or_path, \u001b[39m\"\u001b[39;49m\u001b[39mrb\u001b[39;49m\u001b[39m\"\u001b[39;49m, storage_options\u001b[39m=\u001b[39;49mstorage_options, is_text\u001b[39m=\u001b[39;49m\u001b[39mFalse\u001b[39;49;00m\n\u001b[1;32m   1527\u001b[0m ) \u001b[39mas\u001b[39;00m handle:\n\u001b[1;32m   1528\u001b[0m     stream \u001b[39m=\u001b[39m handle\u001b[39m.\u001b[39mhandle\n\u001b[1;32m   1529\u001b[0m     stream\u001b[39m.\u001b[39mseek(\u001b[39m0\u001b[39m)\n",
      "File \u001b[0;32m~/miniconda3/lib/python3.10/site-packages/pandas/io/common.py:865\u001b[0m, in \u001b[0;36mget_handle\u001b[0;34m(path_or_buf, mode, encoding, compression, memory_map, is_text, errors, storage_options)\u001b[0m\n\u001b[1;32m    856\u001b[0m         handle \u001b[39m=\u001b[39m \u001b[39mopen\u001b[39m(\n\u001b[1;32m    857\u001b[0m             handle,\n\u001b[1;32m    858\u001b[0m             ioargs\u001b[39m.\u001b[39mmode,\n\u001b[0;32m   (...)\u001b[0m\n\u001b[1;32m    861\u001b[0m             newline\u001b[39m=\u001b[39m\u001b[39m\"\u001b[39m\u001b[39m\"\u001b[39m,\n\u001b[1;32m    862\u001b[0m         )\n\u001b[1;32m    863\u001b[0m     \u001b[39melse\u001b[39;00m:\n\u001b[1;32m    864\u001b[0m         \u001b[39m# Binary mode\u001b[39;00m\n\u001b[0;32m--> 865\u001b[0m         handle \u001b[39m=\u001b[39m \u001b[39mopen\u001b[39;49m(handle, ioargs\u001b[39m.\u001b[39;49mmode)\n\u001b[1;32m    866\u001b[0m     handles\u001b[39m.\u001b[39mappend(handle)\n\u001b[1;32m    868\u001b[0m \u001b[39m# Convert BytesIO or file objects passed with an encoding\u001b[39;00m\n",
      "\u001b[0;31mFileNotFoundError\u001b[0m: [Errno 2] No such file or directory: 'data/230428 trucking2303_shared with AAG_color.xlsx230428 trucking2303_shared with AAG_color.xlsx'"
     ]
    },
    {
     "data": {
      "application/javascript": "\n            setTimeout(function() {\n                var nbb_cell_id = 2;\n                var nbb_unformatted_code = \"freq = \\\"QUARTERLY\\\"\\ndf = pd.read_excel(datafile, sheet_name=freq).T\\nnew_header = df.iloc[1] #grab the first row for the header\\ndf = df[3:] #take the data less the header row\\ndf.columns = new_header #set the header row as the df header\\ndf.drop(['Label: (SA = seasonally adjusted)'], axis=1, inplace=True)\\ndf = df.loc[:, df.columns.notna()]\\ndf.dropna(axis = 0, how = 'all', inplace = True)\\n\\ncols = df.select_dtypes(exclude=['float']).columns\\ndf[cols] = df[cols].apply(pd.to_numeric, downcast='float', errors='coerce')\\n\\nif freq == \\\"QUARTERLY\\\":\\n    df['Date'] = pd.date_range('2000-01-01', '2025-12-01', freq='QS')\\n    df['Year'] = df['Date'].dt.year\\n    df['Quarter'] = df['Date'].dt.quarter\\n    df = df[ ['Date'] + ['Year'] + ['Quarter'] + [ col for col in df.columns if col != 'Date'] ]\\nelse:\\n    df['Date'] = pd.date_range('2000-01-01', '2025-01-01', freq='MS')\\n    df['Year'] = df['Date'].dt.year\\n    df['Month'] = df['Date'].dt.month\\n    df = df[ ['Date'] + ['Year'] + ['Month'] + [ col for col in df.columns if col != 'Date'] ]\\n\\n\\ndisplay(df.describe())\";\n                var nbb_formatted_code = \"freq = \\\"QUARTERLY\\\"\\ndf = pd.read_excel(datafile, sheet_name=freq).T\\nnew_header = df.iloc[1]  # grab the first row for the header\\ndf = df[3:]  # take the data less the header row\\ndf.columns = new_header  # set the header row as the df header\\ndf.drop([\\\"Label: (SA = seasonally adjusted)\\\"], axis=1, inplace=True)\\ndf = df.loc[:, df.columns.notna()]\\ndf.dropna(axis=0, how=\\\"all\\\", inplace=True)\\n\\ncols = df.select_dtypes(exclude=[\\\"float\\\"]).columns\\ndf[cols] = df[cols].apply(pd.to_numeric, downcast=\\\"float\\\", errors=\\\"coerce\\\")\\n\\nif freq == \\\"QUARTERLY\\\":\\n    df[\\\"Date\\\"] = pd.date_range(\\\"2000-01-01\\\", \\\"2025-12-01\\\", freq=\\\"QS\\\")\\n    df[\\\"Year\\\"] = df[\\\"Date\\\"].dt.year\\n    df[\\\"Quarter\\\"] = df[\\\"Date\\\"].dt.quarter\\n    df = df[\\n        [\\\"Date\\\"] + [\\\"Year\\\"] + [\\\"Quarter\\\"] + [col for col in df.columns if col != \\\"Date\\\"]\\n    ]\\nelse:\\n    df[\\\"Date\\\"] = pd.date_range(\\\"2000-01-01\\\", \\\"2025-01-01\\\", freq=\\\"MS\\\")\\n    df[\\\"Year\\\"] = df[\\\"Date\\\"].dt.year\\n    df[\\\"Month\\\"] = df[\\\"Date\\\"].dt.month\\n    df = df[\\n        [\\\"Date\\\"] + [\\\"Year\\\"] + [\\\"Month\\\"] + [col for col in df.columns if col != \\\"Date\\\"]\\n    ]\\n\\n\\ndisplay(df.describe())\";\n                var nbb_cells = Jupyter.notebook.get_cells();\n                for (var i = 0; i < nbb_cells.length; ++i) {\n                    if (nbb_cells[i].input_prompt_number == nbb_cell_id) {\n                        if (nbb_cells[i].get_text() == nbb_unformatted_code) {\n                             nbb_cells[i].set_text(nbb_formatted_code);\n                        }\n                        break;\n                    }\n                }\n            }, 500);\n            ",
      "text/plain": [
       "<IPython.core.display.Javascript object>"
      ]
     },
     "metadata": {},
     "output_type": "display_data"
    }
   ],
   "source": [
    "freq = \"QUARTERLY\"\n",
    "df = pd.read_excel(datafile, sheet_name=freq).T\n",
    "new_header = df.iloc[1] #grab the first row for the header\n",
    "df = df[3:] #take the data less the header row\n",
    "df.columns = new_header #set the header row as the df header\n",
    "df.drop(['Label: (SA = seasonally adjusted)'], axis=1, inplace=True)\n",
    "df = df.loc[:, df.columns.notna()]\n",
    "df.dropna(axis = 0, how = 'all', inplace = True)\n",
    "\n",
    "cols = df.select_dtypes(exclude=['float']).columns\n",
    "df[cols] = df[cols].apply(pd.to_numeric, downcast='float', errors='coerce')\n",
    "\n",
    "if freq == \"QUARTERLY\":\n",
    "    df['Date'] = pd.date_range('2000-01-01', '2025-12-01', freq='QS')\n",
    "    df['Year'] = df['Date'].dt.year\n",
    "    df['Quarter'] = df['Date'].dt.quarter\n",
    "    df = df[ ['Date'] + ['Year'] + ['Quarter'] + [ col for col in df.columns if col != 'Date'] ]\n",
    "else:\n",
    "    df['Date'] = pd.date_range('2000-01-01', '2025-01-01', freq='MS')\n",
    "    df['Year'] = df['Date'].dt.year\n",
    "    df['Month'] = df['Date'].dt.month\n",
    "    df = df[ ['Date'] + ['Year'] + ['Month'] + [ col for col in df.columns if col != 'Date'] ]\n",
    "\n",
    "\n",
    "display(df.describe())\n",
    "\n"
   ]
  },
  {
   "cell_type": "code",
   "execution_count": null,
   "metadata": {},
   "outputs": [],
   "source": [
    "train_missing = (df.isnull().sum()/len(df)) *100\n",
    "train_missing = train_missing.drop(train_missing[train_missing ==0].index).sort_values(ascending=False)\n",
    "missing_data = pd.DataFrame({'Missing Percentage': train_missing})\n",
    "missing_data"
   ]
  },
  {
   "cell_type": "code",
   "execution_count": null,
   "metadata": {},
   "outputs": [],
   "source": [
    "# timeseries_heatmap(dataframe=df, entity_column='Site Num', sortby='Date')\n",
    "\n",
    "profile = ProfileReport(df, tsmode=True, sortby=\"Date\")\n",
    "profile.to_file(freq+'_profile_report.html')"
   ]
  },
  {
   "cell_type": "code",
   "execution_count": null,
   "metadata": {},
   "outputs": [],
   "source": [
    "train_spot = df[['Date', 'Total TL: Spot Rate (exc. FSC, SA)']].dropna()\n",
    "train_spot.set_index('Date', inplace=True)\n",
    "train_spot.index.freq='QS'\n",
    "train_spot.index\n",
    "\n",
    "train_contract = df[['Date', 'Total TL: Contract Rate (exc. FSC, SA)']].dropna()\n",
    "train_contract.set_index('Date', inplace=True)\n",
    "train_contract.index.freq='QS'\n",
    "train_contract.index\n"
   ]
  },
  {
   "cell_type": "code",
   "execution_count": null,
   "metadata": {},
   "outputs": [],
   "source": [
    "print('Contract rate')\n",
    "sns.heatmap(pd.pivot_table(data=train_contract, index=train_contract.index.year, columns=train_contract.index.quarter),\n",
    "           square=True,\n",
    "           cmap='Blues',\n",
    "           xticklabels=[\"Q1\", \"Q2\", \"Q3\", \"Q4\"])\n",
    "\n"
   ]
  },
  {
   "cell_type": "code",
   "execution_count": null,
   "metadata": {},
   "outputs": [],
   "source": [
    "print('Spot rate')\n",
    "sns.heatmap(pd.pivot_table(data=train_spot, index=train_spot.index.year, columns=train_spot.index.quarter),\n",
    "           square=True,\n",
    "           cmap='Blues',\n",
    "           xticklabels=[\"Q1\", \"Q2\", \"Q3\", \"Q4\"])"
   ]
  },
  {
   "cell_type": "code",
   "execution_count": null,
   "metadata": {},
   "outputs": [],
   "source": [
    "sns.pairplot(df)"
   ]
  },
  {
   "cell_type": "code",
   "execution_count": null,
   "metadata": {},
   "outputs": [],
   "source": [
    "pd.plotting.lag_plot(train_spot[\"Total TL: Spot Rate (exc. FSC, SA)\"],1)"
   ]
  },
  {
   "cell_type": "code",
   "execution_count": null,
   "metadata": {},
   "outputs": [],
   "source": [
    "pd.plotting.lag_plot(train_spot[\"Total TL: Spot Rate (exc. FSC, SA)\"],4)"
   ]
  },
  {
   "cell_type": "code",
   "execution_count": null,
   "metadata": {},
   "outputs": [],
   "source": []
  }
 ],
 "metadata": {
  "kernelspec": {
   "display_name": "base",
   "language": "python",
   "name": "python3"
  },
  "language_info": {
   "codemirror_mode": {
    "name": "ipython",
    "version": 3
   },
   "file_extension": ".py",
   "mimetype": "text/x-python",
   "name": "python",
   "nbconvert_exporter": "python",
   "pygments_lexer": "ipython3",
   "version": "3.10.9"
  },
  "orig_nbformat": 4,
  "vscode": {
   "interpreter": {
    "hash": "942943fac2a66c60114911a9e5ac8c8224cb550a25eda1ee53472d996fe234a0"
   }
  }
 },
 "nbformat": 4,
 "nbformat_minor": 2
}
