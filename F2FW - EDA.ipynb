{
 "cells": [
  {
   "cell_type": "code",
   "execution_count": 15,
   "metadata": {},
   "outputs": [
    {
     "name": "stdout",
     "output_type": "stream",
     "text": [
      "The nb_black extension is already loaded. To reload it, use:\n",
      "  %reload_ext nb_black\n"
     ]
    },
    {
     "data": {
      "application/javascript": "\n            setTimeout(function() {\n                var nbb_cell_id = 15;\n                var nbb_unformatted_code = \"%load_ext nb_black\\n\\nimport pandas as pd\\nimport numpy as np\\n%matplotlib inline\\nimport matplotlib.pyplot as plt\\n\\nfrom pandas_profiling import ProfileReport\\n\\nimport altair as alt\\n\\nfrom scipy import stats\\nfrom scipy.stats import norm, skew\\nimport seaborn as sns\\ncolor = sns.color_palette()\\nsns.set_style('darkgrid')\\n\\nimport warnings\\ndef ignore_warn(*args, **kwargs):\\n    pass\\nwarnings.warn = ignore_warn\\n\\n\\nimport os\\n\\nos.chdir('/Users/66789/Documents/GitHub/aag-bain-f2fw/')\\ndatafile = 'data/230428 trucking2303_shared with AAG_color.xlsx'\";\n                var nbb_formatted_code = \"%load_ext nb_black\\n\\nimport pandas as pd\\nimport numpy as np\\n\\n%matplotlib inline\\nimport matplotlib.pyplot as plt\\n\\nfrom pandas_profiling import ProfileReport\\n\\nimport altair as alt\\n\\nfrom scipy import stats\\nfrom scipy.stats import norm, skew\\nimport seaborn as sns\\n\\ncolor = sns.color_palette()\\nsns.set_style(\\\"darkgrid\\\")\\n\\nimport warnings\\n\\n\\ndef ignore_warn(*args, **kwargs):\\n    pass\\n\\n\\nwarnings.warn = ignore_warn\\n\\n\\nimport os\\n\\nos.chdir(\\\"/Users/66789/Documents/GitHub/aag-bain-f2fw/\\\")\\ndatafile = \\\"data/230428 trucking2303_shared with AAG_color.xlsx\\\"\";\n                var nbb_cells = Jupyter.notebook.get_cells();\n                for (var i = 0; i < nbb_cells.length; ++i) {\n                    if (nbb_cells[i].input_prompt_number == nbb_cell_id) {\n                        if (nbb_cells[i].get_text() == nbb_unformatted_code) {\n                             nbb_cells[i].set_text(nbb_formatted_code);\n                        }\n                        break;\n                    }\n                }\n            }, 500);\n            ",
      "text/plain": [
       "<IPython.core.display.Javascript object>"
      ]
     },
     "metadata": {},
     "output_type": "display_data"
    }
   ],
   "source": [
    "%load_ext nb_black\n",
    "\n",
    "import pandas as pd\n",
    "import numpy as np\n",
    "%matplotlib inline\n",
    "import matplotlib.pyplot as plt\n",
    "\n",
    "from pandas_profiling import ProfileReport\n",
    "\n",
    "import altair as alt\n",
    "\n",
    "from scipy import stats\n",
    "from scipy.stats import norm, skew\n",
    "import seaborn as sns\n",
    "color = sns.color_palette()\n",
    "sns.set_style('darkgrid')\n",
    "\n",
    "import warnings\n",
    "def ignore_warn(*args, **kwargs):\n",
    "    pass\n",
    "warnings.warn = ignore_warn\n",
    "\n",
    "\n",
    "import os\n",
    "\n",
    "os.chdir('/Users/66789/Documents/GitHub/aag-bain-f2fw/')\n",
    "datafile = 'data/230428 trucking2303_shared with AAG_color.xlsx'"
   ]
  },
  {
   "attachments": {},
   "cell_type": "markdown",
   "metadata": {},
   "source": [
    "## Reading the Data"
   ]
  },
  {
   "cell_type": "code",
   "execution_count": 20,
   "metadata": {},
   "outputs": [
    {
     "data": {
      "text/html": [
       "<div>\n",
       "<style scoped>\n",
       "    .dataframe tbody tr th:only-of-type {\n",
       "        vertical-align: middle;\n",
       "    }\n",
       "\n",
       "    .dataframe tbody tr th {\n",
       "        vertical-align: top;\n",
       "    }\n",
       "\n",
       "    .dataframe thead th {\n",
       "        text-align: right;\n",
       "    }\n",
       "</style>\n",
       "<table border=\"1\" class=\"dataframe\">\n",
       "  <thead>\n",
       "    <tr style=\"text-align: right;\">\n",
       "      <th>Unnamed: 1</th>\n",
       "      <th>Active Truck Utilization (SA)</th>\n",
       "      <th>Total Truck Loadings (SA)</th>\n",
       "      <th>Total TL: Spot Rate (exc. FSC, SA)</th>\n",
       "      <th>Total TL: Contract Rate (exc. FSC, SA)</th>\n",
       "      <th>Driver Labor Index (1992=100, SA)</th>\n",
       "      <th>Truck Driver Pressure Index (0 = Neutral, SA)</th>\n",
       "      <th>Real GDP</th>\n",
       "      <th>CPI Index</th>\n",
       "      <th>3 Month T-Bill Rate, %</th>\n",
       "      <th>National Avg. Diesel Fuel Price ($/Gal.)</th>\n",
       "      <th>Year</th>\n",
       "      <th>Quarter</th>\n",
       "    </tr>\n",
       "  </thead>\n",
       "  <tbody>\n",
       "    <tr>\n",
       "      <th>count</th>\n",
       "      <td>104.000000</td>\n",
       "      <td>1.040000e+02</td>\n",
       "      <td>72.000000</td>\n",
       "      <td>72.000000</td>\n",
       "      <td>104.000000</td>\n",
       "      <td>104.000000</td>\n",
       "      <td>104.000000</td>\n",
       "      <td>104.000000</td>\n",
       "      <td>104.000000</td>\n",
       "      <td>104.000000</td>\n",
       "      <td>104.00000</td>\n",
       "      <td>104.000000</td>\n",
       "    </tr>\n",
       "    <tr>\n",
       "      <th>mean</th>\n",
       "      <td>0.909791</td>\n",
       "      <td>1.739228e+08</td>\n",
       "      <td>112.676071</td>\n",
       "      <td>120.851532</td>\n",
       "      <td>120.870682</td>\n",
       "      <td>0.087948</td>\n",
       "      <td>16797.249586</td>\n",
       "      <td>2.342130</td>\n",
       "      <td>1.919127</td>\n",
       "      <td>2.975320</td>\n",
       "      <td>2012.50000</td>\n",
       "      <td>2.500000</td>\n",
       "    </tr>\n",
       "    <tr>\n",
       "      <th>std</th>\n",
       "      <td>0.044867</td>\n",
       "      <td>1.577288e+07</td>\n",
       "      <td>17.677216</td>\n",
       "      <td>18.209970</td>\n",
       "      <td>7.377230</td>\n",
       "      <td>5.701280</td>\n",
       "      <td>2332.830338</td>\n",
       "      <td>0.431301</td>\n",
       "      <td>1.970776</td>\n",
       "      <td>0.997807</td>\n",
       "      <td>7.53632</td>\n",
       "      <td>1.123448</td>\n",
       "    </tr>\n",
       "    <tr>\n",
       "      <th>min</th>\n",
       "      <td>0.818753</td>\n",
       "      <td>1.421712e+08</td>\n",
       "      <td>77.902023</td>\n",
       "      <td>95.654587</td>\n",
       "      <td>105.248306</td>\n",
       "      <td>-11.974460</td>\n",
       "      <td>12935.252000</td>\n",
       "      <td>1.701000</td>\n",
       "      <td>0.013333</td>\n",
       "      <td>1.178333</td>\n",
       "      <td>2000.00000</td>\n",
       "      <td>1.000000</td>\n",
       "    </tr>\n",
       "    <tr>\n",
       "      <th>25%</th>\n",
       "      <td>0.878123</td>\n",
       "      <td>1.626295e+08</td>\n",
       "      <td>103.122383</td>\n",
       "      <td>105.698410</td>\n",
       "      <td>113.009853</td>\n",
       "      <td>-3.726186</td>\n",
       "      <td>15209.354000</td>\n",
       "      <td>2.020667</td>\n",
       "      <td>0.123333</td>\n",
       "      <td>2.368833</td>\n",
       "      <td>2006.00000</td>\n",
       "      <td>1.750000</td>\n",
       "    </tr>\n",
       "    <tr>\n",
       "      <th>50%</th>\n",
       "      <td>0.902286</td>\n",
       "      <td>1.715567e+08</td>\n",
       "      <td>108.940704</td>\n",
       "      <td>114.899826</td>\n",
       "      <td>124.596096</td>\n",
       "      <td>-1.007951</td>\n",
       "      <td>16370.760000</td>\n",
       "      <td>2.317072</td>\n",
       "      <td>1.201667</td>\n",
       "      <td>2.919000</td>\n",
       "      <td>2012.50000</td>\n",
       "      <td>2.500000</td>\n",
       "    </tr>\n",
       "    <tr>\n",
       "      <th>75%</th>\n",
       "      <td>0.936137</td>\n",
       "      <td>1.909591e+08</td>\n",
       "      <td>119.990997</td>\n",
       "      <td>139.079742</td>\n",
       "      <td>125.628685</td>\n",
       "      <td>4.476465</td>\n",
       "      <td>18766.643066</td>\n",
       "      <td>2.555185</td>\n",
       "      <td>3.501532</td>\n",
       "      <td>3.889917</td>\n",
       "      <td>2019.00000</td>\n",
       "      <td>3.250000</td>\n",
       "    </tr>\n",
       "    <tr>\n",
       "      <th>max</th>\n",
       "      <td>1.000000</td>\n",
       "      <td>1.992374e+08</td>\n",
       "      <td>162.431305</td>\n",
       "      <td>156.782104</td>\n",
       "      <td>130.137955</td>\n",
       "      <td>11.560026</td>\n",
       "      <td>21040.896484</td>\n",
       "      <td>3.358075</td>\n",
       "      <td>6.200000</td>\n",
       "      <td>5.481667</td>\n",
       "      <td>2025.00000</td>\n",
       "      <td>4.000000</td>\n",
       "    </tr>\n",
       "  </tbody>\n",
       "</table>\n",
       "</div>"
      ],
      "text/plain": [
       "Unnamed: 1  Active Truck Utilization (SA)  Total Truck Loadings (SA)  \\\n",
       "count                          104.000000               1.040000e+02   \n",
       "mean                             0.909791               1.739228e+08   \n",
       "std                              0.044867               1.577288e+07   \n",
       "min                              0.818753               1.421712e+08   \n",
       "25%                              0.878123               1.626295e+08   \n",
       "50%                              0.902286               1.715567e+08   \n",
       "75%                              0.936137               1.909591e+08   \n",
       "max                              1.000000               1.992374e+08   \n",
       "\n",
       "Unnamed: 1  Total TL: Spot Rate (exc. FSC, SA)  \\\n",
       "count                                72.000000   \n",
       "mean                                112.676071   \n",
       "std                                  17.677216   \n",
       "min                                  77.902023   \n",
       "25%                                 103.122383   \n",
       "50%                                 108.940704   \n",
       "75%                                 119.990997   \n",
       "max                                 162.431305   \n",
       "\n",
       "Unnamed: 1  Total TL: Contract Rate (exc. FSC, SA)  \\\n",
       "count                                    72.000000   \n",
       "mean                                    120.851532   \n",
       "std                                      18.209970   \n",
       "min                                      95.654587   \n",
       "25%                                     105.698410   \n",
       "50%                                     114.899826   \n",
       "75%                                     139.079742   \n",
       "max                                     156.782104   \n",
       "\n",
       "Unnamed: 1  Driver Labor Index (1992=100, SA)  \\\n",
       "count                              104.000000   \n",
       "mean                               120.870682   \n",
       "std                                  7.377230   \n",
       "min                                105.248306   \n",
       "25%                                113.009853   \n",
       "50%                                124.596096   \n",
       "75%                                125.628685   \n",
       "max                                130.137955   \n",
       "\n",
       "Unnamed: 1  Truck Driver Pressure Index (0 = Neutral, SA)      Real GDP  \\\n",
       "count                                          104.000000    104.000000   \n",
       "mean                                             0.087948  16797.249586   \n",
       "std                                              5.701280   2332.830338   \n",
       "min                                            -11.974460  12935.252000   \n",
       "25%                                             -3.726186  15209.354000   \n",
       "50%                                             -1.007951  16370.760000   \n",
       "75%                                              4.476465  18766.643066   \n",
       "max                                             11.560026  21040.896484   \n",
       "\n",
       "Unnamed: 1   CPI Index  3 Month T-Bill Rate, %  \\\n",
       "count       104.000000              104.000000   \n",
       "mean          2.342130                1.919127   \n",
       "std           0.431301                1.970776   \n",
       "min           1.701000                0.013333   \n",
       "25%           2.020667                0.123333   \n",
       "50%           2.317072                1.201667   \n",
       "75%           2.555185                3.501532   \n",
       "max           3.358075                6.200000   \n",
       "\n",
       "Unnamed: 1  National Avg. Diesel Fuel Price ($/Gal.)        Year     Quarter  \n",
       "count                                     104.000000   104.00000  104.000000  \n",
       "mean                                        2.975320  2012.50000    2.500000  \n",
       "std                                         0.997807     7.53632    1.123448  \n",
       "min                                         1.178333  2000.00000    1.000000  \n",
       "25%                                         2.368833  2006.00000    1.750000  \n",
       "50%                                         2.919000  2012.50000    2.500000  \n",
       "75%                                         3.889917  2019.00000    3.250000  \n",
       "max                                         5.481667  2025.00000    4.000000  "
      ]
     },
     "metadata": {},
     "output_type": "display_data"
    },
    {
     "data": {
      "application/javascript": "\n            setTimeout(function() {\n                var nbb_cell_id = 20;\n                var nbb_unformatted_code = \"freq = \\\"QUARTERLY\\\"\\ndf = pd.read_excel(datafile, sheet_name=freq).T\\nnew_header = df.iloc[1] #grab the first row for the header\\ndf = df[3:] #take the data less the header row\\ndf.columns = new_header #set the header row as the df header\\ndf.drop(['Label: (SA = seasonally adjusted)'], axis=1, inplace=True)\\ndf = df.loc[:, df.columns.notna()]\\ndf = df.loc[:, ~df.columns.str.startswith('TCI Component')]\\ndf.dropna(axis = 0, how = 'all', inplace = True)\\n\\ndf = df.apply(pd.to_numeric, downcast='float', errors='coerce')\\n\\nif freq == \\\"QUARTERLY\\\":\\n    df['Date'] = pd.date_range('2000-01-01', '2025-12-01', freq='QS')\\n    df['Year'] = df['Date'].dt.year\\n    df['Quarter'] = df['Date'].dt.quarter\\n    # df = df[ ['Date'] + ['Year'] + ['Quarter'] + [ col for col in df.columns if col != 'Date'] ]\\nelse:\\n    df['Date'] = pd.date_range('2000-01-01', '2025-01-01', freq='MS')\\n    df['Year'] = df['Date'].dt.year\\n    df['Month'] = df['Date'].dt.month\\n    # df = df[ ['Date'] + ['Year'] + ['Month'] + [ col for col in df.columns if col != 'Date'] ]\\n\\n\\ndisplay(df.describe())\";\n                var nbb_formatted_code = \"freq = \\\"QUARTERLY\\\"\\ndf = pd.read_excel(datafile, sheet_name=freq).T\\nnew_header = df.iloc[1]  # grab the first row for the header\\ndf = df[3:]  # take the data less the header row\\ndf.columns = new_header  # set the header row as the df header\\ndf.drop([\\\"Label: (SA = seasonally adjusted)\\\"], axis=1, inplace=True)\\ndf = df.loc[:, df.columns.notna()]\\ndf = df.loc[:, ~df.columns.str.startswith(\\\"TCI Component\\\")]\\ndf.dropna(axis=0, how=\\\"all\\\", inplace=True)\\n\\ndf = df.apply(pd.to_numeric, downcast=\\\"float\\\", errors=\\\"coerce\\\")\\n\\nif freq == \\\"QUARTERLY\\\":\\n    df[\\\"Date\\\"] = pd.date_range(\\\"2000-01-01\\\", \\\"2025-12-01\\\", freq=\\\"QS\\\")\\n    df[\\\"Year\\\"] = df[\\\"Date\\\"].dt.year\\n    df[\\\"Quarter\\\"] = df[\\\"Date\\\"].dt.quarter\\n    # df = df[ ['Date'] + ['Year'] + ['Quarter'] + [ col for col in df.columns if col != 'Date'] ]\\nelse:\\n    df[\\\"Date\\\"] = pd.date_range(\\\"2000-01-01\\\", \\\"2025-01-01\\\", freq=\\\"MS\\\")\\n    df[\\\"Year\\\"] = df[\\\"Date\\\"].dt.year\\n    df[\\\"Month\\\"] = df[\\\"Date\\\"].dt.month\\n    # df = df[ ['Date'] + ['Year'] + ['Month'] + [ col for col in df.columns if col != 'Date'] ]\\n\\n\\ndisplay(df.describe())\";\n                var nbb_cells = Jupyter.notebook.get_cells();\n                for (var i = 0; i < nbb_cells.length; ++i) {\n                    if (nbb_cells[i].input_prompt_number == nbb_cell_id) {\n                        if (nbb_cells[i].get_text() == nbb_unformatted_code) {\n                             nbb_cells[i].set_text(nbb_formatted_code);\n                        }\n                        break;\n                    }\n                }\n            }, 500);\n            ",
      "text/plain": [
       "<IPython.core.display.Javascript object>"
      ]
     },
     "metadata": {},
     "output_type": "display_data"
    }
   ],
   "source": [
    "freq = \"QUARTERLY\"\n",
    "df = pd.read_excel(datafile, sheet_name=freq).T\n",
    "new_header = df.iloc[1] #grab the first row for the header\n",
    "df = df[3:] #take the data less the header row\n",
    "df.columns = new_header #set the header row as the df header\n",
    "df.drop(['Label: (SA = seasonally adjusted)'], axis=1, inplace=True)\n",
    "df = df.loc[:, df.columns.notna()]\n",
    "df = df.loc[:, ~df.columns.str.startswith('TCI Component')]\n",
    "df.dropna(axis = 0, how = 'all', inplace = True)\n",
    "\n",
    "df = df.apply(pd.to_numeric, downcast='float', errors='coerce')\n",
    "\n",
    "if freq == \"QUARTERLY\":\n",
    "    df['Date'] = pd.date_range('2000-01-01', '2025-12-01', freq='QS')\n",
    "    df['Year'] = df['Date'].dt.year\n",
    "    df['Quarter'] = df['Date'].dt.quarter\n",
    "else:\n",
    "    df['Date'] = pd.date_range('2000-01-01', '2025-01-01', freq='MS')\n",
    "    df['Year'] = df['Date'].dt.year\n",
    "    df['Month'] = df['Date'].dt.month\n",
    "\n",
    "\n",
    "display(df.describe())\n",
    "\n"
   ]
  },
  {
   "attachments": {},
   "cell_type": "markdown",
   "metadata": {},
   "source": [
    "## EDA\n",
    "* Missing values\n",
    "* Correlations\n",
    "* Time series analysis"
   ]
  },
  {
   "cell_type": "code",
   "execution_count": 21,
   "metadata": {},
   "outputs": [
    {
     "data": {
      "text/html": [
       "<div>\n",
       "<style scoped>\n",
       "    .dataframe tbody tr th:only-of-type {\n",
       "        vertical-align: middle;\n",
       "    }\n",
       "\n",
       "    .dataframe tbody tr th {\n",
       "        vertical-align: top;\n",
       "    }\n",
       "\n",
       "    .dataframe thead th {\n",
       "        text-align: right;\n",
       "    }\n",
       "</style>\n",
       "<table border=\"1\" class=\"dataframe\">\n",
       "  <thead>\n",
       "    <tr style=\"text-align: right;\">\n",
       "      <th></th>\n",
       "      <th>Missing Percentage</th>\n",
       "    </tr>\n",
       "    <tr>\n",
       "      <th>Unnamed: 1</th>\n",
       "      <th></th>\n",
       "    </tr>\n",
       "  </thead>\n",
       "  <tbody>\n",
       "    <tr>\n",
       "      <th>Total TL: Spot Rate (exc. FSC, SA)</th>\n",
       "      <td>30.769231</td>\n",
       "    </tr>\n",
       "    <tr>\n",
       "      <th>Total TL: Contract Rate (exc. FSC, SA)</th>\n",
       "      <td>30.769231</td>\n",
       "    </tr>\n",
       "  </tbody>\n",
       "</table>\n",
       "</div>"
      ],
      "text/plain": [
       "                                        Missing Percentage\n",
       "Unnamed: 1                                                \n",
       "Total TL: Spot Rate (exc. FSC, SA)               30.769231\n",
       "Total TL: Contract Rate (exc. FSC, SA)           30.769231"
      ]
     },
     "execution_count": 21,
     "metadata": {},
     "output_type": "execute_result"
    },
    {
     "data": {
      "application/javascript": "\n            setTimeout(function() {\n                var nbb_cell_id = 21;\n                var nbb_unformatted_code = \"train_missing = (df.isnull().sum()/len(df)) *100\\ntrain_missing = train_missing.drop(train_missing[train_missing ==0].index).sort_values(ascending=False)\\nmissing_data = pd.DataFrame({'Missing Percentage': train_missing})\\nmissing_data\";\n                var nbb_formatted_code = \"train_missing = (df.isnull().sum() / len(df)) * 100\\ntrain_missing = train_missing.drop(train_missing[train_missing == 0].index).sort_values(\\n    ascending=False\\n)\\nmissing_data = pd.DataFrame({\\\"Missing Percentage\\\": train_missing})\\nmissing_data\";\n                var nbb_cells = Jupyter.notebook.get_cells();\n                for (var i = 0; i < nbb_cells.length; ++i) {\n                    if (nbb_cells[i].input_prompt_number == nbb_cell_id) {\n                        if (nbb_cells[i].get_text() == nbb_unformatted_code) {\n                             nbb_cells[i].set_text(nbb_formatted_code);\n                        }\n                        break;\n                    }\n                }\n            }, 500);\n            ",
      "text/plain": [
       "<IPython.core.display.Javascript object>"
      ]
     },
     "metadata": {},
     "output_type": "display_data"
    }
   ],
   "source": [
    "train_missing = (df.isnull().sum()/len(df)) *100\n",
    "train_missing = train_missing.drop(train_missing[train_missing ==0].index).sort_values(ascending=False)\n",
    "missing_data = pd.DataFrame({'Missing Percentage': train_missing})\n",
    "missing_data"
   ]
  },
  {
   "cell_type": "code",
   "execution_count": 23,
   "metadata": {},
   "outputs": [
    {
     "name": "stderr",
     "output_type": "stream",
     "text": [
      "Summarize dataset: 100%|██████████| 144/144 [00:17<00:00,  8.36it/s, Completed]                                                                                          \n",
      "Generate report structure: 100%|██████████| 1/1 [00:05<00:00,  5.85s/it]\n",
      "Render HTML: 100%|██████████| 1/1 [00:01<00:00,  1.65s/it]\n",
      "Export report to file: 100%|██████████| 1/1 [00:00<00:00, 111.35it/s]\n"
     ]
    },
    {
     "data": {
      "application/javascript": "\n            setTimeout(function() {\n                var nbb_cell_id = 23;\n                var nbb_unformatted_code = \"# timeseries_heatmap(dataframe=df, entity_column='Site Num', sortby='Date')\\n\\nprofile = ProfileReport(df, tsmode=True, sortby=\\\"Date\\\")\\nprofile.to_file(freq+'_profile_report.html')\";\n                var nbb_formatted_code = \"# timeseries_heatmap(dataframe=df, entity_column='Site Num', sortby='Date')\\n\\nprofile = ProfileReport(df, tsmode=True, sortby=\\\"Date\\\")\\nprofile.to_file(freq + \\\"_profile_report.html\\\")\";\n                var nbb_cells = Jupyter.notebook.get_cells();\n                for (var i = 0; i < nbb_cells.length; ++i) {\n                    if (nbb_cells[i].input_prompt_number == nbb_cell_id) {\n                        if (nbb_cells[i].get_text() == nbb_unformatted_code) {\n                             nbb_cells[i].set_text(nbb_formatted_code);\n                        }\n                        break;\n                    }\n                }\n            }, 500);\n            ",
      "text/plain": [
       "<IPython.core.display.Javascript object>"
      ]
     },
     "metadata": {},
     "output_type": "display_data"
    }
   ],
   "source": [
    "# timeseries_heatmap(dataframe=df, entity_column='Site Num', sortby='Date')\n",
    "\n",
    "profile = ProfileReport(df, tsmode=True, sortby=\"Date\")\n",
    "profile.to_file(freq+'_profile_report.html')"
   ]
  },
  {
   "cell_type": "code",
   "execution_count": null,
   "metadata": {},
   "outputs": [],
   "source": [
    "train_spot = df[['Date', 'Total TL: Spot Rate (exc. FSC, SA)']].dropna()\n",
    "train_spot.set_index('Date', inplace=True)\n",
    "train_spot.index.freq='QS'\n",
    "train_spot.index\n",
    "\n",
    "train_contract = df[['Date', 'Total TL: Contract Rate (exc. FSC, SA)']].dropna()\n",
    "train_contract.set_index('Date', inplace=True)\n",
    "train_contract.index.freq='QS'\n",
    "train_contract.index\n"
   ]
  },
  {
   "cell_type": "code",
   "execution_count": null,
   "metadata": {},
   "outputs": [],
   "source": [
    "print('Contract rate')\n",
    "sns.heatmap(pd.pivot_table(data=train_contract, index=train_contract.index.year, columns=train_contract.index.quarter),\n",
    "           square=True,\n",
    "           cmap='Blues',\n",
    "           xticklabels=[\"Q1\", \"Q2\", \"Q3\", \"Q4\"])\n",
    "\n"
   ]
  },
  {
   "cell_type": "code",
   "execution_count": null,
   "metadata": {},
   "outputs": [],
   "source": [
    "print('Spot rate')\n",
    "sns.heatmap(pd.pivot_table(data=train_spot, index=train_spot.index.year, columns=train_spot.index.quarter),\n",
    "           square=True,\n",
    "           cmap='Blues',\n",
    "           xticklabels=[\"Q1\", \"Q2\", \"Q3\", \"Q4\"])"
   ]
  },
  {
   "cell_type": "code",
   "execution_count": null,
   "metadata": {},
   "outputs": [],
   "source": [
    "sns.pairplot(df)"
   ]
  },
  {
   "cell_type": "code",
   "execution_count": null,
   "metadata": {},
   "outputs": [],
   "source": [
    "pd.plotting.lag_plot(train_spot[\"Total TL: Spot Rate (exc. FSC, SA)\"],1)"
   ]
  },
  {
   "cell_type": "code",
   "execution_count": null,
   "metadata": {},
   "outputs": [],
   "source": [
    "pd.plotting.lag_plot(train_spot[\"Total TL: Spot Rate (exc. FSC, SA)\"],4)"
   ]
  },
  {
   "cell_type": "code",
   "execution_count": null,
   "metadata": {},
   "outputs": [],
   "source": []
  }
 ],
 "metadata": {
  "kernelspec": {
   "display_name": "base",
   "language": "python",
   "name": "python3"
  },
  "language_info": {
   "codemirror_mode": {
    "name": "ipython",
    "version": 3
   },
   "file_extension": ".py",
   "mimetype": "text/x-python",
   "name": "python",
   "nbconvert_exporter": "python",
   "pygments_lexer": "ipython3",
   "version": "3.10.9"
  },
  "orig_nbformat": 4,
  "vscode": {
   "interpreter": {
    "hash": "942943fac2a66c60114911a9e5ac8c8224cb550a25eda1ee53472d996fe234a0"
   }
  }
 },
 "nbformat": 4,
 "nbformat_minor": 2
}
