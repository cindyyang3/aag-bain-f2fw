{
 "cells": [
  {
   "cell_type": "code",
   "execution_count": 11,
   "metadata": {},
   "outputs": [
    {
     "name": "stdout",
     "output_type": "stream",
     "text": [
      "The nb_black extension is already loaded. To reload it, use:\n",
      "  %reload_ext nb_black\n"
     ]
    },
    {
     "data": {
      "application/javascript": "\n            setTimeout(function() {\n                var nbb_cell_id = 11;\n                var nbb_unformatted_code = \"%load_ext nb_black\\n\\nimport pandas as pd\\nimport numpy as np\\n%matplotlib inline\\nimport matplotlib.pyplot as plt\\n\\nfrom pandas_profiling import ProfileReport\\n\\nimport altair as alt\\n\\nfrom scipy import stats\\nfrom scipy.stats import norm, skew\\nimport seaborn as sns\\ncolor = sns.color_palette()\\nsns.set_style('darkgrid')\\n\\nimport warnings\\ndef ignore_warn(*args, **kwargs):\\n    pass\\nwarnings.warn = ignore_warn\\n\\n\\nimport os\\n\\nos.chdir('/Users/66789/Documents/GitHub/aag-bain-f2fw/')\\ndatafile = 'data/230428 trucking2303_shared with AAG.xlsx'\";\n                var nbb_formatted_code = \"%load_ext nb_black\\n\\nimport pandas as pd\\nimport numpy as np\\n\\n%matplotlib inline\\nimport matplotlib.pyplot as plt\\n\\nfrom pandas_profiling import ProfileReport\\n\\nimport altair as alt\\n\\nfrom scipy import stats\\nfrom scipy.stats import norm, skew\\nimport seaborn as sns\\n\\ncolor = sns.color_palette()\\nsns.set_style(\\\"darkgrid\\\")\\n\\nimport warnings\\n\\n\\ndef ignore_warn(*args, **kwargs):\\n    pass\\n\\n\\nwarnings.warn = ignore_warn\\n\\n\\nimport os\\n\\nos.chdir(\\\"/Users/66789/Documents/GitHub/aag-bain-f2fw/\\\")\\ndatafile = \\\"data/230428 trucking2303_shared with AAG.xlsx\\\"\";\n                var nbb_cells = Jupyter.notebook.get_cells();\n                for (var i = 0; i < nbb_cells.length; ++i) {\n                    if (nbb_cells[i].input_prompt_number == nbb_cell_id) {\n                        if (nbb_cells[i].get_text() == nbb_unformatted_code) {\n                             nbb_cells[i].set_text(nbb_formatted_code);\n                        }\n                        break;\n                    }\n                }\n            }, 500);\n            ",
      "text/plain": [
       "<IPython.core.display.Javascript object>"
      ]
     },
     "metadata": {},
     "output_type": "display_data"
    }
   ],
   "source": [
    "%load_ext nb_black\n",
    "\n",
    "import pandas as pd\n",
    "import numpy as np\n",
    "%matplotlib inline\n",
    "import matplotlib.pyplot as plt\n",
    "\n",
    "from pandas_profiling import ProfileReport\n",
    "\n",
    "import altair as alt\n",
    "\n",
    "from scipy import stats\n",
    "from scipy.stats import norm, skew\n",
    "import seaborn as sns\n",
    "color = sns.color_palette()\n",
    "sns.set_style('darkgrid')\n",
    "\n",
    "import warnings\n",
    "def ignore_warn(*args, **kwargs):\n",
    "    pass\n",
    "warnings.warn = ignore_warn\n",
    "\n",
    "\n",
    "import os\n",
    "\n",
    "os.chdir('/Users/66789/Documents/GitHub/aag-bain-f2fw/')\n",
    "datafile = 'data/230428 trucking2303_shared with AAG.xlsx'"
   ]
  },
  {
   "cell_type": "code",
   "execution_count": 12,
   "metadata": {},
   "outputs": [
    {
     "ename": "ValueError",
     "evalue": "Columns must be same length as key",
     "output_type": "error",
     "traceback": [
      "\u001b[0;31m---------------------------------------------------------------------------\u001b[0m",
      "\u001b[0;31mValueError\u001b[0m                                Traceback (most recent call last)",
      "Cell \u001b[0;32mIn[12], line 11\u001b[0m\n\u001b[1;32m      8\u001b[0m df\u001b[39m.\u001b[39mdropna(axis \u001b[39m=\u001b[39m \u001b[39m0\u001b[39m, how \u001b[39m=\u001b[39m \u001b[39m'\u001b[39m\u001b[39mall\u001b[39m\u001b[39m'\u001b[39m, inplace \u001b[39m=\u001b[39m \u001b[39mTrue\u001b[39;00m)\n\u001b[1;32m     10\u001b[0m cols \u001b[39m=\u001b[39m df\u001b[39m.\u001b[39mselect_dtypes(exclude\u001b[39m=\u001b[39m[\u001b[39m'\u001b[39m\u001b[39mfloat\u001b[39m\u001b[39m'\u001b[39m])\u001b[39m.\u001b[39mcolumns\n\u001b[0;32m---> 11\u001b[0m df[cols] \u001b[39m=\u001b[39m df[cols]\u001b[39m.\u001b[39mapply(pd\u001b[39m.\u001b[39mto_numeric, downcast\u001b[39m=\u001b[39m\u001b[39m'\u001b[39m\u001b[39mfloat\u001b[39m\u001b[39m'\u001b[39m, errors\u001b[39m=\u001b[39m\u001b[39m'\u001b[39m\u001b[39mcoerce\u001b[39m\u001b[39m'\u001b[39m)\n\u001b[1;32m     13\u001b[0m \u001b[39mif\u001b[39;00m freq \u001b[39m==\u001b[39m \u001b[39m\"\u001b[39m\u001b[39mQUARTERLY\u001b[39m\u001b[39m\"\u001b[39m:\n\u001b[1;32m     14\u001b[0m     df[\u001b[39m'\u001b[39m\u001b[39mDate\u001b[39m\u001b[39m'\u001b[39m] \u001b[39m=\u001b[39m pd\u001b[39m.\u001b[39mdate_range(\u001b[39m'\u001b[39m\u001b[39m2000-01-01\u001b[39m\u001b[39m'\u001b[39m, \u001b[39m'\u001b[39m\u001b[39m2025-12-01\u001b[39m\u001b[39m'\u001b[39m, freq\u001b[39m=\u001b[39m\u001b[39m'\u001b[39m\u001b[39mQS\u001b[39m\u001b[39m'\u001b[39m)\n",
      "File \u001b[0;32m~/miniconda3/lib/python3.10/site-packages/pandas/core/frame.py:3968\u001b[0m, in \u001b[0;36mDataFrame.__setitem__\u001b[0;34m(self, key, value)\u001b[0m\n\u001b[1;32m   3966\u001b[0m     \u001b[39mself\u001b[39m\u001b[39m.\u001b[39m_setitem_frame(key, value)\n\u001b[1;32m   3967\u001b[0m \u001b[39melif\u001b[39;00m \u001b[39misinstance\u001b[39m(key, (Series, np\u001b[39m.\u001b[39mndarray, \u001b[39mlist\u001b[39m, Index)):\n\u001b[0;32m-> 3968\u001b[0m     \u001b[39mself\u001b[39;49m\u001b[39m.\u001b[39;49m_setitem_array(key, value)\n\u001b[1;32m   3969\u001b[0m \u001b[39melif\u001b[39;00m \u001b[39misinstance\u001b[39m(value, DataFrame):\n\u001b[1;32m   3970\u001b[0m     \u001b[39mself\u001b[39m\u001b[39m.\u001b[39m_set_item_frame_value(key, value)\n",
      "File \u001b[0;32m~/miniconda3/lib/python3.10/site-packages/pandas/core/frame.py:4012\u001b[0m, in \u001b[0;36mDataFrame._setitem_array\u001b[0;34m(self, key, value)\u001b[0m\n\u001b[1;32m   4010\u001b[0m     check_key_length(\u001b[39mself\u001b[39m\u001b[39m.\u001b[39mcolumns, key, value)\n\u001b[1;32m   4011\u001b[0m     \u001b[39mfor\u001b[39;00m k1, k2 \u001b[39min\u001b[39;00m \u001b[39mzip\u001b[39m(key, value\u001b[39m.\u001b[39mcolumns):\n\u001b[0;32m-> 4012\u001b[0m         \u001b[39mself\u001b[39;49m[k1] \u001b[39m=\u001b[39m value[k2]\n\u001b[1;32m   4014\u001b[0m \u001b[39melif\u001b[39;00m \u001b[39mnot\u001b[39;00m is_list_like(value):\n\u001b[1;32m   4015\u001b[0m     \u001b[39mfor\u001b[39;00m col \u001b[39min\u001b[39;00m key:\n",
      "File \u001b[0;32m~/miniconda3/lib/python3.10/site-packages/pandas/core/frame.py:3970\u001b[0m, in \u001b[0;36mDataFrame.__setitem__\u001b[0;34m(self, key, value)\u001b[0m\n\u001b[1;32m   3968\u001b[0m     \u001b[39mself\u001b[39m\u001b[39m.\u001b[39m_setitem_array(key, value)\n\u001b[1;32m   3969\u001b[0m \u001b[39melif\u001b[39;00m \u001b[39misinstance\u001b[39m(value, DataFrame):\n\u001b[0;32m-> 3970\u001b[0m     \u001b[39mself\u001b[39;49m\u001b[39m.\u001b[39;49m_set_item_frame_value(key, value)\n\u001b[1;32m   3971\u001b[0m \u001b[39melif\u001b[39;00m (\n\u001b[1;32m   3972\u001b[0m     is_list_like(value)\n\u001b[1;32m   3973\u001b[0m     \u001b[39mand\u001b[39;00m \u001b[39mnot\u001b[39;00m \u001b[39mself\u001b[39m\u001b[39m.\u001b[39mcolumns\u001b[39m.\u001b[39mis_unique\n\u001b[1;32m   3974\u001b[0m     \u001b[39mand\u001b[39;00m \u001b[39m1\u001b[39m \u001b[39m<\u001b[39m \u001b[39mlen\u001b[39m(\u001b[39mself\u001b[39m\u001b[39m.\u001b[39mcolumns\u001b[39m.\u001b[39mget_indexer_for([key])) \u001b[39m==\u001b[39m \u001b[39mlen\u001b[39m(value)\n\u001b[1;32m   3975\u001b[0m ):\n\u001b[1;32m   3976\u001b[0m     \u001b[39m# Column to set is duplicated\u001b[39;00m\n\u001b[1;32m   3977\u001b[0m     \u001b[39mself\u001b[39m\u001b[39m.\u001b[39m_setitem_array([key], value)\n",
      "File \u001b[0;32m~/miniconda3/lib/python3.10/site-packages/pandas/core/frame.py:4100\u001b[0m, in \u001b[0;36mDataFrame._set_item_frame_value\u001b[0;34m(self, key, value)\u001b[0m\n\u001b[1;32m   4098\u001b[0m len_cols \u001b[39m=\u001b[39m \u001b[39m1\u001b[39m \u001b[39mif\u001b[39;00m is_scalar(cols) \u001b[39melse\u001b[39;00m \u001b[39mlen\u001b[39m(cols)\n\u001b[1;32m   4099\u001b[0m \u001b[39mif\u001b[39;00m len_cols \u001b[39m!=\u001b[39m \u001b[39mlen\u001b[39m(value\u001b[39m.\u001b[39mcolumns):\n\u001b[0;32m-> 4100\u001b[0m     \u001b[39mraise\u001b[39;00m \u001b[39mValueError\u001b[39;00m(\u001b[39m\"\u001b[39m\u001b[39mColumns must be same length as key\u001b[39m\u001b[39m\"\u001b[39m)\n\u001b[1;32m   4102\u001b[0m \u001b[39m# align right-hand-side columns if self.columns\u001b[39;00m\n\u001b[1;32m   4103\u001b[0m \u001b[39m# is multi-index and self[key] is a sub-frame\u001b[39;00m\n\u001b[1;32m   4104\u001b[0m \u001b[39mif\u001b[39;00m \u001b[39misinstance\u001b[39m(\u001b[39mself\u001b[39m\u001b[39m.\u001b[39mcolumns, MultiIndex) \u001b[39mand\u001b[39;00m \u001b[39misinstance\u001b[39m(\n\u001b[1;32m   4105\u001b[0m     loc, (\u001b[39mslice\u001b[39m, Series, np\u001b[39m.\u001b[39mndarray, Index)\n\u001b[1;32m   4106\u001b[0m ):\n",
      "\u001b[0;31mValueError\u001b[0m: Columns must be same length as key"
     ]
    },
    {
     "data": {
      "application/javascript": "\n            setTimeout(function() {\n                var nbb_cell_id = 12;\n                var nbb_unformatted_code = \"freq = \\\"QUARTERLY\\\"\\ndf = pd.read_excel(datafile, sheet_name=freq).T\\nnew_header = df.iloc[1] #grab the first row for the header\\ndf = df[3:] #take the data less the header row\\ndf.columns = new_header #set the header row as the df header\\ndf.drop(['Label: (SA = seasonally adjusted)'], axis=1, inplace=True)\\ndf = df.loc[:, df.columns.notna()]\\ndf.dropna(axis = 0, how = 'all', inplace = True)\\n\\ncols = df.select_dtypes(exclude=['float']).columns\\ndf[cols] = df[cols].apply(pd.to_numeric, downcast='float', errors='coerce')\\n\\nif freq == \\\"QUARTERLY\\\":\\n    df['Date'] = pd.date_range('2000-01-01', '2025-12-01', freq='QS')\\n    df['Year'] = df['Date'].dt.year\\n    df['Quarter'] = df['Date'].dt.quarter\\n    df = df[ ['Date'] + ['Year'] + ['Quarter'] + [ col for col in df.columns if col != 'Date'] ]\\nelse:\\n    df['Date'] = pd.date_range('2000-01-01', '2025-01-01', freq='MS')\\n    df['Year'] = df['Date'].dt.year\\n    df['Month'] = df['Date'].dt.month\\n    df = df[ ['Date'] + ['Year'] + ['Month'] + [ col for col in df.columns if col != 'Date'] ]\\n\\n\\ndisplay(df.describe())\";\n                var nbb_formatted_code = \"freq = \\\"QUARTERLY\\\"\\ndf = pd.read_excel(datafile, sheet_name=freq).T\\nnew_header = df.iloc[1]  # grab the first row for the header\\ndf = df[3:]  # take the data less the header row\\ndf.columns = new_header  # set the header row as the df header\\ndf.drop([\\\"Label: (SA = seasonally adjusted)\\\"], axis=1, inplace=True)\\ndf = df.loc[:, df.columns.notna()]\\ndf.dropna(axis=0, how=\\\"all\\\", inplace=True)\\n\\ncols = df.select_dtypes(exclude=[\\\"float\\\"]).columns\\ndf[cols] = df[cols].apply(pd.to_numeric, downcast=\\\"float\\\", errors=\\\"coerce\\\")\\n\\nif freq == \\\"QUARTERLY\\\":\\n    df[\\\"Date\\\"] = pd.date_range(\\\"2000-01-01\\\", \\\"2025-12-01\\\", freq=\\\"QS\\\")\\n    df[\\\"Year\\\"] = df[\\\"Date\\\"].dt.year\\n    df[\\\"Quarter\\\"] = df[\\\"Date\\\"].dt.quarter\\n    df = df[\\n        [\\\"Date\\\"] + [\\\"Year\\\"] + [\\\"Quarter\\\"] + [col for col in df.columns if col != \\\"Date\\\"]\\n    ]\\nelse:\\n    df[\\\"Date\\\"] = pd.date_range(\\\"2000-01-01\\\", \\\"2025-01-01\\\", freq=\\\"MS\\\")\\n    df[\\\"Year\\\"] = df[\\\"Date\\\"].dt.year\\n    df[\\\"Month\\\"] = df[\\\"Date\\\"].dt.month\\n    df = df[\\n        [\\\"Date\\\"] + [\\\"Year\\\"] + [\\\"Month\\\"] + [col for col in df.columns if col != \\\"Date\\\"]\\n    ]\\n\\n\\ndisplay(df.describe())\";\n                var nbb_cells = Jupyter.notebook.get_cells();\n                for (var i = 0; i < nbb_cells.length; ++i) {\n                    if (nbb_cells[i].input_prompt_number == nbb_cell_id) {\n                        if (nbb_cells[i].get_text() == nbb_unformatted_code) {\n                             nbb_cells[i].set_text(nbb_formatted_code);\n                        }\n                        break;\n                    }\n                }\n            }, 500);\n            ",
      "text/plain": [
       "<IPython.core.display.Javascript object>"
      ]
     },
     "metadata": {},
     "output_type": "display_data"
    }
   ],
   "source": [
    "freq = \"QUARTERLY\"\n",
    "df = pd.read_excel(datafile, sheet_name=freq).T\n",
    "new_header = df.iloc[1] #grab the first row for the header\n",
    "df = df[3:] #take the data less the header row\n",
    "df.columns = new_header #set the header row as the df header\n",
    "df.drop(['Label: (SA = seasonally adjusted)'], axis=1, inplace=True)\n",
    "df = df.loc[:, df.columns.notna()]\n",
    "df.dropna(axis = 0, how = 'all', inplace = True)\n",
    "\n",
    "df = df.apply(pd.to_numeric, downcast='float', errors='coerce')\n",
    "\n",
    "if freq == \"QUARTERLY\":\n",
    "    df['Date'] = pd.date_range('2000-01-01', '2025-12-01', freq='QS')\n",
    "    df['Year'] = df['Date'].dt.year\n",
    "    df['Quarter'] = df['Date'].dt.quarter\n",
    "    df = df[ ['Date'] + ['Year'] + ['Quarter'] + [ col for col in df.columns if col != 'Date'] ]\n",
    "else:\n",
    "    df['Date'] = pd.date_range('2000-01-01', '2025-01-01', freq='MS')\n",
    "    df['Year'] = df['Date'].dt.year\n",
    "    df['Month'] = df['Date'].dt.month\n",
    "    df = df[ ['Date'] + ['Year'] + ['Month'] + [ col for col in df.columns if col != 'Date'] ]\n",
    "\n",
    "\n",
    "display(df.describe())\n",
    "\n"
   ]
  },
  {
   "cell_type": "code",
   "execution_count": null,
   "metadata": {},
   "outputs": [],
   "source": [
    "train_missing = (df.isnull().sum()/len(df)) *100\n",
    "train_missing = train_missing.drop(train_missing[train_missing ==0].index).sort_values(ascending=False)\n",
    "missing_data = pd.DataFrame({'Missing Percentage': train_missing})\n",
    "missing_data"
   ]
  },
  {
   "cell_type": "code",
   "execution_count": null,
   "metadata": {},
   "outputs": [],
   "source": [
    "# timeseries_heatmap(dataframe=df, entity_column='Site Num', sortby='Date')\n",
    "\n",
    "profile = ProfileReport(df, tsmode=True, sortby=\"Date\")\n",
    "profile.to_file(freq+'_profile_report.html')"
   ]
  },
  {
   "cell_type": "code",
   "execution_count": null,
   "metadata": {},
   "outputs": [],
   "source": [
    "train_spot = df[['Date', 'Total TL: Spot Rate (exc. FSC, SA)']].dropna()\n",
    "train_spot.set_index('Date', inplace=True)\n",
    "train_spot.index.freq='QS'\n",
    "train_spot.index\n",
    "\n",
    "train_contract = df[['Date', 'Total TL: Contract Rate (exc. FSC, SA)']].dropna()\n",
    "train_contract.set_index('Date', inplace=True)\n",
    "train_contract.index.freq='QS'\n",
    "train_contract.index\n"
   ]
  },
  {
   "cell_type": "code",
   "execution_count": null,
   "metadata": {},
   "outputs": [],
   "source": [
    "print('Contract rate')\n",
    "sns.heatmap(pd.pivot_table(data=train_contract, index=train_contract.index.year, columns=train_contract.index.quarter),\n",
    "           square=True,\n",
    "           cmap='Blues',\n",
    "           xticklabels=[\"Q1\", \"Q2\", \"Q3\", \"Q4\"])\n",
    "\n"
   ]
  },
  {
   "cell_type": "code",
   "execution_count": null,
   "metadata": {},
   "outputs": [],
   "source": [
    "print('Spot rate')\n",
    "sns.heatmap(pd.pivot_table(data=train_spot, index=train_spot.index.year, columns=train_spot.index.quarter),\n",
    "           square=True,\n",
    "           cmap='Blues',\n",
    "           xticklabels=[\"Q1\", \"Q2\", \"Q3\", \"Q4\"])"
   ]
  },
  {
   "cell_type": "code",
   "execution_count": null,
   "metadata": {},
   "outputs": [],
   "source": [
    "sns.pairplot(df)"
   ]
  },
  {
   "cell_type": "code",
   "execution_count": null,
   "metadata": {},
   "outputs": [],
   "source": [
    "pd.plotting.lag_plot(train_spot[\"Total TL: Spot Rate (exc. FSC, SA)\"],1)"
   ]
  },
  {
   "cell_type": "code",
   "execution_count": null,
   "metadata": {},
   "outputs": [],
   "source": [
    "pd.plotting.lag_plot(train_spot[\"Total TL: Spot Rate (exc. FSC, SA)\"],4)"
   ]
  },
  {
   "cell_type": "code",
   "execution_count": null,
   "metadata": {},
   "outputs": [],
   "source": []
  }
 ],
 "metadata": {
  "kernelspec": {
   "display_name": "base",
   "language": "python",
   "name": "python3"
  },
  "language_info": {
   "codemirror_mode": {
    "name": "ipython",
    "version": 3
   },
   "file_extension": ".py",
   "mimetype": "text/x-python",
   "name": "python",
   "nbconvert_exporter": "python",
   "pygments_lexer": "ipython3",
   "version": "3.10.9"
  },
  "orig_nbformat": 4,
  "vscode": {
   "interpreter": {
    "hash": "942943fac2a66c60114911a9e5ac8c8224cb550a25eda1ee53472d996fe234a0"
   }
  }
 },
 "nbformat": 4,
 "nbformat_minor": 2
}
